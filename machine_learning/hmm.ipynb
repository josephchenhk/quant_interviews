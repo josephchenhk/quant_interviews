{
 "cells": [
  {
   "cell_type": "markdown",
   "metadata": {},
   "source": [
    "<h1 style=\"color:orange\">Hidden Markov Model (HMM) </h1>"
   ]
  },
  {
   "cell_type": "markdown",
   "metadata": {},
   "source": [
    "---\n",
    "<h2 style=\"color:orange\">Markov Model (MM) </h2>\n",
    "\n",
    "A Markov Model is a stochastic state space model involving random transitions\n",
    "between states where the probability of the jump is only dependent upon the\n",
    "current state, rather than any of the previous states. The model is said to\n",
    "possess the Markov Property and is <span style=\"color:orange\">\"memoryless\"</span>.\n",
    "Random Walk models are another familiar example of a Markov Model.\n"
   ]
  },
  {
   "cell_type": "code",
   "execution_count": 1,
   "metadata": {
    "pycharm": {
     "is_executing": true
    }
   },
   "outputs": [],
   "source": [
    "import numpy as np\n",
    "from ipysketch import Sketch\n",
    "\n",
    "sk = Sketch('hmm')"
   ]
  },
  {
   "cell_type": "code",
   "execution_count": 2,
   "metadata": {},
   "outputs": [
    {
     "data": {
      "application/vnd.jupyter.widget-view+json": {
       "model_id": "e2f017f40ccf4c02af5d1e08995d3210",
       "version_major": 2,
       "version_minor": 0
      },
      "text/plain": [
       "Button(description='Edit', style=ButtonStyle())"
      ]
     },
     "metadata": {},
     "output_type": "display_data"
    },
    {
     "data": {
      "application/vnd.jupyter.widget-view+json": {
       "model_id": "d24d98f7c9ad42f59c471b6f612b2fa6",
       "version_major": 2,
       "version_minor": 0
      },
      "text/plain": [
       "Output()"
      ]
     },
     "metadata": {},
     "output_type": "display_data"
    },
    {
     "data": {
      "application/vnd.jupyter.widget-view+json": {
       "model_id": "5928abbfa7ff4a01a0445fa0304e36d6",
       "version_major": 2,
       "version_minor": 0
      },
      "text/plain": [
       "Image(value=b'\\x89PNG\\r\\n\\x1a\\n\\x00\\x00\\x00\\rIHDR\\x00\\x00\\x06\\x08\\x00\\x00\\x04\\x01\\x08\\x02\\x00\\x00\\x00p\\x98\\x96…"
      ]
     },
     "metadata": {},
     "output_type": "display_data"
    }
   ],
   "source": [
    "sk"
   ]
  },
  {
   "cell_type": "code",
   "execution_count": 3,
   "metadata": {
    "pycharm": {
     "name": "#%%\n"
    }
   },
   "outputs": [
    {
     "name": "stdout",
     "output_type": "stream",
     "text": [
      "zsh:1: number expected\r\n"
     ]
    }
   ],
   "source": [
    "![gmm](../contents/hmm.png)"
   ]
  },
  {
   "cell_type": "markdown",
   "metadata": {
    "pycharm": {
     "name": "#%% md\n"
    }
   },
   "source": [
    "once the Viterbi algorithm has computed the most likely path through the Hidden\n",
    "Markov Model (HMM), the model can be used to predict future movements.\n",
    "\n",
    "In an HMM, the state sequence represents the underlying dynamics of the system\n",
    "being modeled. By using the most likely state sequence, the model can provide a\n",
    "prediction of the future movements of the system. Specifically, the model can\n",
    "predict the most likely sequence of future states and observations, given the\n",
    "current state and observations.\n",
    "\n",
    "This prediction can be made using the forward algorithm, which computes the\n",
    "probability of observing a sequence of future observations given the current\n",
    "state and all previous observations. The forward algorithm can be used to\n",
    "compute the probability of all possible future state sequences, and the most\n",
    "likely sequence can be obtained using the Viterbi algorithm.\n",
    "\n",
    "For example, in a financial time series analysis, an HMM model can be used to\n",
    "predict the future price movements of a stock or a portfolio of stocks. The\n",
    "Viterbi algorithm can be used to find the most likely sequence of hidden states\n",
    "(e.g., market regimes), and the forward algorithm can be used to predict the\n",
    "most likely sequence of future price movements, given the current market regime.\n",
    "\n",
    "In summary, once the <p style=\"color:blue\">Viterbi algorithm</p> has computed\n",
    "the most likely path through the HMM, the model can be used to predict future\n",
    "movements using the forward algorithm."
   ]
  },
  {
   "cell_type": "code",
   "execution_count": 5,
   "metadata": {
    "pycharm": {
     "is_executing": true,
     "name": "#%%\n"
    }
   },
   "outputs": [
    {
     "name": "stdout",
     "output_type": "stream",
     "text": [
      "p^{sample 1}_{H1,O1}=0.060000,  p^{sample 1}_{H2,O1}=0.240000,  \n",
      "\n",
      "p^{sample 2}_{H1,O1}=0.009600,  p^{sample 2}_{H2,O1}=0.086400,  \n",
      "\n",
      "p^{sample 3}_{H1,O2}=0.013824,  p^{sample 3}_{H2,O2}=0.015552,  \n",
      "\n",
      "p^{sample 4}_{H1,O2}=0.003871,  p^{sample 4}_{H2,O2}=0.002799,  \n",
      "\n",
      "p^{sample 5}_{H1,O2}=0.001084,  p^{sample 5}_{H2,O2}=0.000504,  \n",
      "\n",
      "p^{sample 6}_{H1,O3}=0.000379,  p^{sample 6}_{H2,O3}=0.000033,  \n",
      "\n",
      "p^{sample 7}_{H1,O1}=0.000027,  p^{sample 7}_{H2,O1}=0.000068,  \n",
      "\n",
      "Most likely sequence of hidden states: ['H2', 'H2', 'H1', 'H1', 'H1', 'H1', 'H2']\n"
     ]
    }
   ],
   "source": [
    "# Define the HMM parameters\n",
    "states = hidden_states = ['H1', 'H2']\n",
    "obs = observations = ['O1', 'O2', 'O3']\n",
    "P0 = start_prob = {'H1': 0.6, 'H2': 0.4}\n",
    "PT = transition_prob = {\n",
    "    'H1': {'H1': 0.7, 'H2': 0.3},\n",
    "    'H2': {'H1': 0.4, 'H2': 0.6}\n",
    "}\n",
    "PE = emission_prob = {\n",
    "    'H1': {'O1': 0.1, 'O2': 0.4, 'O3': 0.5},\n",
    "    'H2': {'O1': 0.6, 'O2': 0.3, 'O3': 0.1}\n",
    "}\n",
    "\n",
    "# Define the sequence of observations\n",
    "obs_seq = ['O1', 'O1', 'O2', 'O2', 'O2', 'O3', 'O1']\n",
    "\n",
    "# Implement the Viterbi algorithm (to find the most likely sequence of hidden states)\n",
    "def viterbi(obs_seq, hidden_states, start_prob, transition_prob, emission_prob):\n",
    "    T = len(obs_seq)\n",
    "    N = len(hidden_states)\n",
    "\n",
    "    # Initialize the probability matrix and the backpointer matrix\n",
    "    prob = np.zeros((T, N))\n",
    "    backpointer = np.zeros((T, N), dtype=int)\n",
    "\n",
    "    # Set the initial probabilities\n",
    "    for s in range(N):\n",
    "        # prob[0][s] = start_prob[hidden_states[s]] * emission_prob[hidden_states[s]][obs_seq[0]]\n",
    "        prob[0][s] = P0[states[s]] * PE[states[s]][obs_seq[0]]\n",
    "\n",
    "    # Calculate the probabilities for each time step\n",
    "    for t in range(1, T):\n",
    "        for s in range(N):\n",
    "            max_prob = 0\n",
    "            max_state = 0\n",
    "            for s_prev in range(N):\n",
    "                curr_prob = prob[t-1][s_prev] * PT[states[s_prev]][states[s]] \\\n",
    "                            * PE[states[s]][obs_seq[t]]\n",
    "                if curr_prob > max_prob:\n",
    "                    max_prob = curr_prob\n",
    "                    max_state = s_prev\n",
    "            prob[t][s] = max_prob\n",
    "            backpointer[t][s] = max_state\n",
    "\n",
    "    # print the probabilities\n",
    "    for t in range(0, T):\n",
    "        for s in range(N):\n",
    "            print(\"p^{{sample {0}}}_{{{1},{2}}}={3:.6f}, \".format(\n",
    "                  t+1, states[s], obs_seq[t], prob[t][s]), \n",
    "                  end=\" \")\n",
    "        print(\"\\n\")\n",
    "\n",
    "    # Find the path with the highest probability\n",
    "    max_prob = max(prob[T-1])\n",
    "    max_state = np.argmax(prob[T-1])\n",
    "    path = [hidden_states[max_state]]\n",
    "    for t in range(T-1, 0, -1):\n",
    "        max_state = backpointer[t][max_state]\n",
    "        path.insert(0, hidden_states[max_state])\n",
    "\n",
    "    return path\n",
    "\n",
    "# Find the most likely sequence of hidden states\n",
    "path = viterbi(obs_seq, hidden_states, start_prob, transition_prob, emission_prob)\n",
    "print(\"Most likely sequence of hidden states:\", path)"
   ]
  },
  {
   "cell_type": "code",
   "execution_count": null,
   "metadata": {
    "pycharm": {
     "name": "#%%\n"
    }
   },
   "outputs": [],
   "source": []
  }
 ],
 "metadata": {
  "kernelspec": {
   "display_name": "py310",
   "language": "python",
   "name": "py310"
  },
  "language_info": {
   "codemirror_mode": {
    "name": "ipython",
    "version": 3
   },
   "file_extension": ".py",
   "mimetype": "text/x-python",
   "name": "python",
   "nbconvert_exporter": "python",
   "pygments_lexer": "ipython3",
   "version": "3.10.8"
  }
 },
 "nbformat": 4,
 "nbformat_minor": 1
}